{
  "cells": [
    {
      "cell_type": "markdown",
      "metadata": {
        "id": "FOFSisdGYIfN"
      },
      "source": [
        "# Generating Bash Code with Granite Code Models"
      ]
    },
    {
      "cell_type": "markdown",
      "metadata": {
        "id": "NLxfaoOoYIfO"
      },
      "source": [
        "> **NOTE:** This recipe assumes you are working on a Linux, MacOS, or other UNIX-compatible system. While we haven't tested on Windows, some of the examples may generate valid DOS or PowerShell output. See comments below.\n"
      ]
    },
    {
      "cell_type": "markdown",
      "metadata": {
        "id": "1rm5N4wsYIfO"
      },
      "source": [
        "## Setting Up"
      ]
    },
    {
      "cell_type": "markdown",
      "metadata": {
        "id": "ljIxUts8YIfO"
      },
      "source": [
        "### Python version\n",
        "\n",
        "Ensure you are running Python 3.10 or 3.11."
      ]
    },
    {
      "cell_type": "code",
      "execution_count": 3,
      "metadata": {
        "id": "XxFC_WuQYIfP"
      },
      "outputs": [],
      "source": [
        "import sys\n",
        "assert sys.version_info >= (3, 10) and sys.version_info < (3, 12), \"Use Python 3.10 or 3.11 to run this notebook.\""
      ]
    },
    {
      "cell_type": "markdown",
      "metadata": {
        "id": "EMIk64IWYIfP"
      },
      "source": [
        "### Install dependencies\n",
        "\n",
        "Granite Kitchen comes with a bundle of dependencies that are required for notebooks. See the list of packages in its [`setup.py`](https://github.com/ibm-granite-community/granite-kitchen/blob/main/setup.py)."
      ]
    },
    {
      "cell_type": "code",
      "execution_count": 4,
      "metadata": {
        "id": "k09zsD4nYIfP",
        "outputId": "8ecfebff-2cb1-48ab-ffe5-44b7083ab7d7",
        "colab": {
          "base_uri": "https://localhost:8080/"
        }
      },
      "outputs": [
        {
          "output_type": "stream",
          "name": "stdout",
          "text": [
            "Collecting git+https://github.com/ibm-granite-community/utils.git\n",
            "  Cloning https://github.com/ibm-granite-community/utils.git to /tmp/pip-req-build-_wwjdw0j\n",
            "  Running command git clone --filter=blob:none --quiet https://github.com/ibm-granite-community/utils.git /tmp/pip-req-build-_wwjdw0j\n",
            "  Resolved https://github.com/ibm-granite-community/utils.git to commit 5d67648927240b208a164d2466f0dc77200450e5\n",
            "  Installing build dependencies ... \u001b[?25l\u001b[?25hdone\n",
            "  Getting requirements to build wheel ... \u001b[?25l\u001b[?25hdone\n",
            "  Preparing metadata (pyproject.toml) ... \u001b[?25l\u001b[?25hdone\n",
            "Requirement already satisfied: langchain_community in /usr/local/lib/python3.11/dist-packages (0.3.18)\n",
            "Requirement already satisfied: langchain_ollama in /usr/local/lib/python3.11/dist-packages (0.2.3)\n",
            "Requirement already satisfied: replicate in /usr/local/lib/python3.11/dist-packages (1.0.4)\n",
            "Requirement already satisfied: python-dotenv in /usr/local/lib/python3.11/dist-packages (from ibm-granite-community-utils==0.1.dev49) (1.0.1)\n",
            "Requirement already satisfied: langchain-core<1.0.0,>=0.3.37 in /usr/local/lib/python3.11/dist-packages (from langchain_community) (0.3.40)\n",
            "Requirement already satisfied: langchain<1.0.0,>=0.3.19 in /usr/local/lib/python3.11/dist-packages (from langchain_community) (0.3.19)\n",
            "Requirement already satisfied: SQLAlchemy<3,>=1.4 in /usr/local/lib/python3.11/dist-packages (from langchain_community) (2.0.37)\n",
            "Requirement already satisfied: requests<3,>=2 in /usr/local/lib/python3.11/dist-packages (from langchain_community) (2.32.3)\n",
            "Requirement already satisfied: PyYAML>=5.3 in /usr/local/lib/python3.11/dist-packages (from langchain_community) (6.0.2)\n",
            "Requirement already satisfied: aiohttp<4.0.0,>=3.8.3 in /usr/local/lib/python3.11/dist-packages (from langchain_community) (3.11.11)\n",
            "Requirement already satisfied: tenacity!=8.4.0,<10,>=8.1.0 in /usr/local/lib/python3.11/dist-packages (from langchain_community) (9.0.0)\n",
            "Requirement already satisfied: dataclasses-json<0.7,>=0.5.7 in /usr/local/lib/python3.11/dist-packages (from langchain_community) (0.6.7)\n",
            "Requirement already satisfied: pydantic-settings<3.0.0,>=2.4.0 in /usr/local/lib/python3.11/dist-packages (from langchain_community) (2.8.1)\n",
            "Requirement already satisfied: langsmith<0.4,>=0.1.125 in /usr/local/lib/python3.11/dist-packages (from langchain_community) (0.3.1)\n",
            "Requirement already satisfied: httpx-sse<1.0.0,>=0.4.0 in /usr/local/lib/python3.11/dist-packages (from langchain_community) (0.4.0)\n",
            "Requirement already satisfied: numpy<2,>=1.26.4 in /usr/local/lib/python3.11/dist-packages (from langchain_community) (1.26.4)\n",
            "Requirement already satisfied: ollama<1,>=0.4.4 in /usr/local/lib/python3.11/dist-packages (from langchain_ollama) (0.4.7)\n",
            "Requirement already satisfied: httpx<1,>=0.21.0 in /usr/local/lib/python3.11/dist-packages (from replicate) (0.28.1)\n",
            "Requirement already satisfied: packaging in /usr/local/lib/python3.11/dist-packages (from replicate) (24.2)\n",
            "Requirement already satisfied: pydantic>1.10.7 in /usr/local/lib/python3.11/dist-packages (from replicate) (2.10.6)\n",
            "Requirement already satisfied: typing_extensions>=4.5.0 in /usr/local/lib/python3.11/dist-packages (from replicate) (4.12.2)\n",
            "Requirement already satisfied: aiohappyeyeballs>=2.3.0 in /usr/local/lib/python3.11/dist-packages (from aiohttp<4.0.0,>=3.8.3->langchain_community) (2.4.4)\n",
            "Requirement already satisfied: aiosignal>=1.1.2 in /usr/local/lib/python3.11/dist-packages (from aiohttp<4.0.0,>=3.8.3->langchain_community) (1.3.2)\n",
            "Requirement already satisfied: attrs>=17.3.0 in /usr/local/lib/python3.11/dist-packages (from aiohttp<4.0.0,>=3.8.3->langchain_community) (24.3.0)\n",
            "Requirement already satisfied: frozenlist>=1.1.1 in /usr/local/lib/python3.11/dist-packages (from aiohttp<4.0.0,>=3.8.3->langchain_community) (1.5.0)\n",
            "Requirement already satisfied: multidict<7.0,>=4.5 in /usr/local/lib/python3.11/dist-packages (from aiohttp<4.0.0,>=3.8.3->langchain_community) (6.1.0)\n",
            "Requirement already satisfied: propcache>=0.2.0 in /usr/local/lib/python3.11/dist-packages (from aiohttp<4.0.0,>=3.8.3->langchain_community) (0.2.1)\n",
            "Requirement already satisfied: yarl<2.0,>=1.17.0 in /usr/local/lib/python3.11/dist-packages (from aiohttp<4.0.0,>=3.8.3->langchain_community) (1.18.3)\n",
            "Requirement already satisfied: marshmallow<4.0.0,>=3.18.0 in /usr/local/lib/python3.11/dist-packages (from dataclasses-json<0.7,>=0.5.7->langchain_community) (3.26.1)\n",
            "Requirement already satisfied: typing-inspect<1,>=0.4.0 in /usr/local/lib/python3.11/dist-packages (from dataclasses-json<0.7,>=0.5.7->langchain_community) (0.9.0)\n",
            "Requirement already satisfied: anyio in /usr/local/lib/python3.11/dist-packages (from httpx<1,>=0.21.0->replicate) (3.7.1)\n",
            "Requirement already satisfied: certifi in /usr/local/lib/python3.11/dist-packages (from httpx<1,>=0.21.0->replicate) (2024.12.14)\n",
            "Requirement already satisfied: httpcore==1.* in /usr/local/lib/python3.11/dist-packages (from httpx<1,>=0.21.0->replicate) (1.0.7)\n",
            "Requirement already satisfied: idna in /usr/local/lib/python3.11/dist-packages (from httpx<1,>=0.21.0->replicate) (3.10)\n",
            "Requirement already satisfied: h11<0.15,>=0.13 in /usr/local/lib/python3.11/dist-packages (from httpcore==1.*->httpx<1,>=0.21.0->replicate) (0.14.0)\n",
            "Requirement already satisfied: langchain-text-splitters<1.0.0,>=0.3.6 in /usr/local/lib/python3.11/dist-packages (from langchain<1.0.0,>=0.3.19->langchain_community) (0.3.6)\n",
            "Requirement already satisfied: jsonpatch<2.0,>=1.33 in /usr/local/lib/python3.11/dist-packages (from langchain-core<1.0.0,>=0.3.37->langchain_community) (1.33)\n",
            "Requirement already satisfied: orjson<4.0.0,>=3.9.14 in /usr/local/lib/python3.11/dist-packages (from langsmith<0.4,>=0.1.125->langchain_community) (3.10.15)\n",
            "Requirement already satisfied: requests-toolbelt<2.0.0,>=1.0.0 in /usr/local/lib/python3.11/dist-packages (from langsmith<0.4,>=0.1.125->langchain_community) (1.0.0)\n",
            "Requirement already satisfied: zstandard<0.24.0,>=0.23.0 in /usr/local/lib/python3.11/dist-packages (from langsmith<0.4,>=0.1.125->langchain_community) (0.23.0)\n",
            "Requirement already satisfied: annotated-types>=0.6.0 in /usr/local/lib/python3.11/dist-packages (from pydantic>1.10.7->replicate) (0.7.0)\n",
            "Requirement already satisfied: pydantic-core==2.27.2 in /usr/local/lib/python3.11/dist-packages (from pydantic>1.10.7->replicate) (2.27.2)\n",
            "Requirement already satisfied: charset-normalizer<4,>=2 in /usr/local/lib/python3.11/dist-packages (from requests<3,>=2->langchain_community) (3.4.1)\n",
            "Requirement already satisfied: urllib3<3,>=1.21.1 in /usr/local/lib/python3.11/dist-packages (from requests<3,>=2->langchain_community) (2.3.0)\n",
            "Requirement already satisfied: greenlet!=0.4.17 in /usr/local/lib/python3.11/dist-packages (from SQLAlchemy<3,>=1.4->langchain_community) (3.1.1)\n",
            "Requirement already satisfied: jsonpointer>=1.9 in /usr/local/lib/python3.11/dist-packages (from jsonpatch<2.0,>=1.33->langchain-core<1.0.0,>=0.3.37->langchain_community) (3.0.0)\n",
            "Requirement already satisfied: mypy-extensions>=0.3.0 in /usr/local/lib/python3.11/dist-packages (from typing-inspect<1,>=0.4.0->dataclasses-json<0.7,>=0.5.7->langchain_community) (1.0.0)\n",
            "Requirement already satisfied: sniffio>=1.1 in /usr/local/lib/python3.11/dist-packages (from anyio->httpx<1,>=0.21.0->replicate) (1.3.1)\n"
          ]
        }
      ],
      "source": [
        "! pip install \"git+https://github.com/ibm-granite-community/utils.git\" langchain_community langchain_ollama replicate"
      ]
    },
    {
      "cell_type": "markdown",
      "metadata": {
        "id": "JUhkpO7QYIfP"
      },
      "source": [
        "### Serving the Granite AI model"
      ]
    },
    {
      "cell_type": "markdown",
      "metadata": {
        "id": "C27jxKisYIfP"
      },
      "source": [
        "\n",
        "This notebook requires IBM Granite models to be served by an AI model runtime so that the models can be invoked or called. This notebook can use a locally accessible [Ollama](https://github.com/ollama/ollama) server to serve the models, or the [Replicate](https://replicate.com) cloud service.\n",
        "\n",
        "During the pre-work, you may have either started a local Ollama server on your computer, or setup Replicate access and obtained an [API token](https://replicate.com/account/api-tokens)."
      ]
    },
    {
      "cell_type": "markdown",
      "metadata": {
        "id": "Foaw0caXYIfQ"
      },
      "source": [
        "## Select your model"
      ]
    },
    {
      "cell_type": "markdown",
      "metadata": {
        "id": "yXwyMeUcYIfQ"
      },
      "source": [
        "\n",
        "Select a Granite Code model to use. Here we use a Langchain client to connect to the model. If there is a locally accessible Ollama server, we use an Ollama client to access the model. Otherwise, we use a Replicate client to access the model.\n",
        "\n",
        "When using Replicate, if the `REPLICATE_API_TOKEN` environment variable is not set, or a `REPLICATE_API_TOKEN` Colab secret is not set, then the notebook will ask for your [Replicate API token](https://replicate.com/account/api-tokens) in a dialog box."
      ]
    },
    {
      "cell_type": "code",
      "execution_count": 5,
      "metadata": {
        "id": "9slGAxPtYIfQ",
        "outputId": "5f6e5d1c-3a58-44f2-9237-eb7506e62750",
        "colab": {
          "base_uri": "https://localhost:8080/"
        }
      },
      "outputs": [
        {
          "output_type": "stream",
          "name": "stdout",
          "text": [
            "REPLICATE_API_TOKEN loaded from Google Colab secret.\n"
          ]
        }
      ],
      "source": [
        "import os\n",
        "import requests\n",
        "from langchain_ollama.llms import OllamaLLM\n",
        "from langchain_community.llms import Replicate\n",
        "from ibm_granite_community.notebook_utils import get_env_var\n",
        "\n",
        "try: # Look for a locally accessible Ollama server for the model\n",
        "    response = requests.get(os.getenv(\"OLLAMA_HOST\", \"http://127.0.0.1:11434\"))\n",
        "    model = OllamaLLM(model=\"granite3.1-dense:2b\")\n",
        "except Exception: # Use Replicate for the model\n",
        "    model = Replicate(model=\"ibm-granite/granite-3.1-2b-instruct\",\n",
        "                      replicate_api_token=get_env_var(\"REPLICATE_API_TOKEN\"))\n"
      ]
    },
    {
      "cell_type": "markdown",
      "metadata": {
        "id": "5vycAOcCYIfQ"
      },
      "source": [
        "### Detect your operating system"
      ]
    },
    {
      "cell_type": "markdown",
      "metadata": {
        "id": "8CrFokg8YIfQ"
      },
      "source": [
        "We'll find it useful to determine the name of our operating system and use that string in queries. This is because shell commands sometimes have different options on Linux vs. MacOS, etc. We'll write our queries so they take this difference into account. We can use a helper function to determine your OS. Note that `platform.system()` returns `Windows` on Windows system."
      ]
    },
    {
      "cell_type": "markdown",
      "metadata": {
        "id": "pVONvq5uYIfQ"
      },
      "source": [
        "> **TIPS:** If you are using MacOS, you can install Linux-compatible versions of many commands. Consider these two options:\n",
        "> * Install GNU Coreutils on a Mac. See [these instructions](https://superuser.com/questions/476575/replace-os-xs-shell-commands-with-the-linux-versions).\n",
        "> * Install [HomeBrew](https://brew.sh/) and use it to install Linux-compatible (and other) tools.\n",
        "\n",
        "> **Note:** The [Google Colab](https://colab.research.google.com) runtime environment is Linux."
      ]
    },
    {
      "cell_type": "code",
      "execution_count": 6,
      "metadata": {
        "id": "zjJoCYLTYIfQ",
        "outputId": "6586ea37-ccba-433e-cee8-865277e909f7",
        "colab": {
          "base_uri": "https://localhost:8080/"
        }
      },
      "outputs": [
        {
          "output_type": "stream",
          "name": "stdout",
          "text": [
            "My OS is Linux. My shell is bash.\n"
          ]
        }
      ],
      "source": [
        "import platform\n",
        "\n",
        "def os_name():\n",
        "    os_name = platform.system()\n",
        "    # It turns out, using \"MacOS\" is better than \"Darwin\", which is what gets returned on MacOS.\n",
        "    # For all other cases, the returned value should be fine as is, so we map the result to the desired\n",
        "    # name, but only for MacOS...\n",
        "    name_map = {'Darwin': 'MacOS'}\n",
        "    shell_map = {'Windows': 'DOS'} # On Windows and use Power Shell, change from `DOS` to `Power Shell`.\n",
        "    # ... then pass the os_name value as the second arg, which is used as the default return value.\n",
        "    # For the shell name, return `bash` by default. (You can change this to zsh, fish, etc.)\n",
        "    return name_map.get(os_name, os_name), shell_map.get(os_name, 'bash')\n",
        "\n",
        "my_os, my_shell = os_name()\n",
        "print(f\"My OS is {my_os}. My shell is {my_shell}.\")"
      ]
    },
    {
      "cell_type": "markdown",
      "metadata": {
        "id": "lnUB74qCYIfR"
      },
      "source": [
        "\n",
        "## One-shot Prompting with Granite Code\n",
        "\n",
        "In One-shot prompting, you provide the model with a question and no examples. The model will generate an answer given its training. Larger models tend to do better at this task.\n",
        "\n",
        "Note how we add additional context to the user's input prompt, such as _\"make sure you write code that works for _my_ system!\"_ (We'll see another way to do this below.)"
      ]
    },
    {
      "cell_type": "code",
      "execution_count": 12,
      "metadata": {
        "id": "rVXFfOivYIfR",
        "outputId": "4e36745c-28c2-421a-d6cf-167aa6fd6f8b",
        "colab": {
          "base_uri": "https://localhost:8080/"
        }
      },
      "outputs": [
        {
          "output_type": "stream",
          "name": "stdout",
          "text": [
            "Here's a bash script that should accomplish what you're looking for. This script uses `find` to locate files modified within the last week and `ls -l` to display the last modification time.\n",
            "\n",
            "```bash\n",
            "#!/bin/bash\n",
            "\n",
            "# Find files modified in the last week\n",
            "files=$(find . -type f -mtime -7)\n",
            "\n",
            "# Check if any files were found\n",
            "if [ -z \"$files\" ]; then\n",
            "  echo \"No files modified within the last week.\"\n",
            "else\n",
            "  # Print the first 50 files with their last modification times\n",
            "  for file in $files; do\n",
            "    last_modified=$(ls -l \"$file\" | awk '{print $5}')\n",
            "    echo \"$file: $last_modified\"\n",
            "    if [ $(wc -c <\"${file}\") -ge 50 ]; then\n",
            "      break\n",
            "    fi\n",
            "  done\n",
            "fi\n",
            "```\n",
            "\n",
            "Save this script to a file, for example, `print_recent_files.sh`. Make sure to give it execute permissions with `chmod +x print_recent_files.sh`.\n",
            "\n",
            "To run the script, execute `./print_recent_files.sh`. The script will print the first 50 files modified within the last week along with their last modification times. If no files are found, it will display a message indicating that.\n"
          ]
        }
      ],
      "source": [
        "from textwrap import dedent\n",
        "\n",
        "prompt = dedent(f\"\"\"\\\n",
        "    Show me a {my_shell} script to print the first 50 files found under the current working directory\n",
        "    that have been modified within the last week. Make sure you show the last modification time\n",
        "    for each file in the output. Make sure you generate {my_shell} code that is {my_os}-compatible!\"\"\"\n",
        ")\n",
        "\n",
        "response = model.invoke(prompt)\n",
        "print(response)"
      ]
    },
    {
      "cell_type": "markdown",
      "metadata": {
        "id": "8QiY57_JYIfR"
      },
      "source": [
        "### Try the script"
      ]
    },
    {
      "cell_type": "markdown",
      "metadata": {
        "id": "27Rq01jeYIfR"
      },
      "source": [
        "Remove any markdown formatting in the output and paste the commands generated into the next cell _**after the %%bash line shown**_. Also delete the `ls -l`, which is there to allow the cell to run without error if nothing is pasted there (e.g., in our CI/CD test system). So, for example, you might have something like the following:\n",
        "\n",
        "```shell\n",
        "%%bash\n",
        "find dir -type d | do_something\n",
        "...\n",
        "```\n",
        "\n",
        "The `%%bash` \"magic\" tells Jupyter to run the commands as a shell script instead of as Python code. You can omit lines like `#!/bin/bash` and keep or remove any comments `# this is a comment...`.\n",
        "\n",
        "Does the script work? If not try running the query again. Also try modifying the query string. What difference do these steps make?"
      ]
    },
    {
      "cell_type": "code",
      "execution_count": 13,
      "metadata": {
        "id": "vt1KR0CaYIfR",
        "outputId": "9f051536-755a-4595-b4b0-3b6dd8d47530",
        "colab": {
          "base_uri": "https://localhost:8080/"
        }
      },
      "outputs": [
        {
          "output_type": "stream",
          "name": "stdout",
          "text": [
            "./.config/gce: 5\n"
          ]
        }
      ],
      "source": [
        "%%bash\n",
        "# ls -l\n",
        "# Find files modified in the last week\n",
        "files=$(find . -type f -mtime -7)\n",
        "\n",
        "# Check if any files were found\n",
        "if [ -z \"$files\" ]; then\n",
        "  echo \"No files modified within the last week.\"\n",
        "else\n",
        "  # Print the first 50 files with their last modification times\n",
        "  for file in $files; do\n",
        "    last_modified=$(ls -l \"$file\" | awk '{print $5}')\n",
        "    echo \"$file: $last_modified\"\n",
        "    if [ $(wc -c <\"${file}\") -ge 50 ]; then\n",
        "      break\n",
        "    fi\n",
        "  done\n",
        "fi"
      ]
    },
    {
      "cell_type": "markdown",
      "metadata": {
        "id": "XsveYF9wYIfR"
      },
      "source": [
        "## Few-shot Prompting with Granite Code\n",
        "\n",
        "In few-shot prompting, you provide the model with a question and some examples. The model will generate an answer given its training. The additional examples help the model zero in on a pattern, which may be required for smaller models to perform well at this task."
      ]
    },
    {
      "cell_type": "markdown",
      "metadata": {
        "id": "kMujzPMIYIfR"
      },
      "source": [
        "### Provide a list of Q&A examples"
      ]
    },
    {
      "cell_type": "markdown",
      "metadata": {
        "id": "TByT5RDdYIfR"
      },
      "source": [
        "\n",
        "One of the examples uses the `stat` command, which requires different syntax for Linux vs. MacOS systems.\n",
        "\n",
        "> **NOTE:** If you are using a Windows system, try changing the \"answers\" in the `examples` cell to be valid Power Shell or DOS commands. You can ignore the `stat_flags` in the next cell."
      ]
    },
    {
      "cell_type": "code",
      "execution_count": 14,
      "metadata": {
        "id": "q7PJ2t98YIfR",
        "outputId": "412a7a78-2284-49a8-9d7f-e32899a097bc",
        "colab": {
          "base_uri": "https://localhost:8080/"
        }
      },
      "outputs": [
        {
          "output_type": "stream",
          "name": "stdout",
          "text": [
            "The 'stat' flags for my OS 'Linux' and shell 'bash' are '-c \"%y %n\" {}'\n"
          ]
        }
      ],
      "source": [
        "stat_flags = '-c \"%y %n\" {}'\n",
        "if my_os == 'MacOS':\n",
        "    stat_flags = '-f \"%m %N\" {}'\n",
        "print(f\"The 'stat' flags for my OS \\'{my_os}\\' and shell \\'{my_shell}\\' are \\'{stat_flags}\\'\")"
      ]
    },
    {
      "cell_type": "code",
      "execution_count": 15,
      "metadata": {
        "id": "4AqCSSqVYIfR"
      },
      "outputs": [],
      "source": [
        "examples = [\n",
        "    {\n",
        "        \"question\": \"Recursively find files that match '*.js', and filter out files with 'excludeddir' in their paths.\",\n",
        "        \"answer\": \"find . -name '*.js' | grep -v excludeddir\",\n",
        "    },\n",
        "    {\n",
        "        \"question\": \"Dump \\\"a0b\\\" as hexadecimal bytes.\",\n",
        "        \"answer\": \"printf \\\"a0b\\\" | od -tx1\",\n",
        "    },\n",
        "    {\n",
        "        \"question\": \"Create a tar ball of all pdf files in the current folder and any subdirectories.\",\n",
        "        \"answer\": \"find . -name '*.pdf' | xargs tar czvf pdf.tar\",\n",
        "    },\n",
        "    {\n",
        "        \"question\": \"Sort all files and directories in the current directory, but no subdirectories, according to modification time, and print only the seven most recently modified items.\",\n",
        "        \"answer\": f\"find . -maxdepth 1 -exec stat {stat_flags} \\; | sort -n -r | tail -n 7\",\n",
        "    },\n",
        "    {\n",
        "        \"question\": \"Find all the empty directories in and under the current directory.\",\n",
        "        \"answer\": \"find . -type d -empty\",\n",
        "    },\n",
        "]"
      ]
    },
    {
      "cell_type": "markdown",
      "metadata": {
        "id": "_Bq2qmVaYIfR"
      },
      "source": [
        "### Assemble the prompt template\n",
        "\n",
        "Here we build up a chat prompt template from messages. See the [Langchain docs](https://python.langchain.com/docs/how_to/few_shot_examples_chat/#fixed-examples) for more details."
      ]
    },
    {
      "cell_type": "code",
      "execution_count": 16,
      "metadata": {
        "id": "xNm91y9pYIfR",
        "outputId": "81e50fa0-ab59-4bf7-b36f-2a4dbe20dad5",
        "colab": {
          "base_uri": "https://localhost:8080/"
        }
      },
      "outputs": [
        {
          "output_type": "stream",
          "name": "stdout",
          "text": [
            "['question']\n"
          ]
        }
      ],
      "source": [
        "from langchain_core.prompts import ChatPromptTemplate, FewShotChatMessagePromptTemplate\n",
        "\n",
        "example_prompt = ChatPromptTemplate.from_messages(\n",
        "    [\n",
        "        (\"human\", \"{question}\"),\n",
        "        (\"ai\", \"{answer}\"),\n",
        "    ]\n",
        ")\n",
        "\n",
        "few_shot_prompt = FewShotChatMessagePromptTemplate(\n",
        "    example_prompt=example_prompt,\n",
        "    examples=examples,\n",
        ")\n",
        "\n",
        "chat_template = ChatPromptTemplate.from_messages(\n",
        "    [\n",
        "        few_shot_prompt,\n",
        "        (\"human\", \"{question}\"),\n",
        "    ]\n",
        ")\n",
        "\n",
        "print(chat_template.input_variables)\n"
      ]
    },
    {
      "cell_type": "markdown",
      "metadata": {
        "id": "Nc7YjqDSYIfR"
      },
      "source": [
        "### View the completed prompt\n",
        "\n",
        "Create a prompt and inspect the fully-interpolated chat template. Alternating Human/AI messages create a structure that the model will follow."
      ]
    },
    {
      "cell_type": "code",
      "execution_count": 17,
      "metadata": {
        "id": "Rl0oOManYIfS",
        "outputId": "025d8310-b74f-426c-ab4e-1e9fa410b9e5",
        "colab": {
          "base_uri": "https://localhost:8080/"
        }
      },
      "outputs": [
        {
          "output_type": "stream",
          "name": "stdout",
          "text": [
            "Human: Recursively find files that match '*.js', and filter out files with 'excludeddir' in their paths.\n",
            "AI: find . -name '*.js' | grep -v excludeddir\n",
            "Human: Dump \"a0b\" as hexadecimal bytes.\n",
            "AI: printf \"a0b\" | od -tx1\n",
            "Human: Create a tar ball of all pdf files in the current folder and any subdirectories.\n",
            "AI: find . -name '*.pdf' | xargs tar czvf pdf.tar\n",
            "Human: Sort all files and directories in the current directory, but no subdirectories, according to modification time, and print only the seven most recently modified items.\n",
            "AI: find . -maxdepth 1 -exec stat -c \"%y %n\" {} \\; | sort -n -r | tail -n 7\n",
            "Human: Find all the empty directories in and under the current directory.\n",
            "AI: find . -type d -empty\n",
            "Human: Show me a bash script to print the first 50 files found under the current working directorythat have been modified within the last week. Make sure you show the last modification timefor each file in the output.\n"
          ]
        }
      ],
      "source": [
        "# Construct a prompt with no tabs and newlines.\n",
        "prompt = dedent(f\"\"\"\\\n",
        "    Show me a {my_shell} script to print the first 50 files found under the current working directory\n",
        "    that have been modified within the last week. Make sure you show the last modification time\n",
        "    for each file in the output.\"\"\"\n",
        ").replace(\"\\n\", \"\")\n",
        "\n",
        "print(chat_template.format(question=prompt))"
      ]
    },
    {
      "cell_type": "markdown",
      "metadata": {
        "id": "BP_XW1gXYIfS"
      },
      "source": [
        "### Run the model"
      ]
    },
    {
      "cell_type": "code",
      "execution_count": 18,
      "metadata": {
        "id": "3StSMbJDYIfS",
        "outputId": "fcc2527e-f5a4-4ebe-b473-be73a820997e",
        "colab": {
          "base_uri": "https://localhost:8080/"
        }
      },
      "outputs": [
        {
          "output_type": "stream",
          "name": "stdout",
          "text": [
            "Here's a bash script that meets your requirements:\n",
            "\n",
            "```bash\n",
            "#!/bin/bash\n",
            "\n",
            "# Find files modified within the last week\n",
            "files=$(find . -type f -mtime -7)\n",
            "\n",
            "# Extract and print the last modification time for each file\n",
            "for file in $files; do\n",
            "  echo \"$(stat -c %Y -t \"%Y-%m-%d %H:%M:%S\" \"$file\")\" \"$file\"\n",
            "done | sort -k2 -nr\n",
            "\n",
            "# Limit the output to the first 50 files\n",
            "head -n 50\n",
            "```\n",
            "\n",
            "This script first finds all files (`-type f`) that have been modified within the last week (`-mtime -7`). It then uses `stat` to extract the last modification time (`-t \"%Y-%m-%d %H:%M:%S\"`) for each file and prints them along with the file paths. Finally, it sorts the output by modification time in reverse order (`-nr`) and limits the output to the first 50 lines (`head -n 50`).\n"
          ]
        }
      ],
      "source": [
        "chain = chat_template | model\n",
        "response = chain.invoke({\"question\": prompt})\n",
        "print(response)"
      ]
    },
    {
      "cell_type": "markdown",
      "metadata": {
        "id": "N3lXTUyNYIfS"
      },
      "source": [
        "## Adding a System Prompt\n",
        "\n",
        "Finally, a _system prompt_ is the preferred way to provide additional instructions and clarity about the context for a task, especially when this same information applies for _all_ user queries in the application. When you are building an AI-enabled application for a set of use cases, you will probably spend a lot of time refining the system prompt to maximize the quality of the results!\n",
        "\n",
        "Here we define a system prompt to let the model know what we expect from it, including the expected language and os compatibility. To separate the system prompt from the user prompt, we use a chat template, which separates the prompt into messages and allows us to indicate the role of the speaker.\n"
      ]
    },
    {
      "cell_type": "code",
      "execution_count": 19,
      "metadata": {
        "id": "PkJEheHfYIfS",
        "outputId": "dc1aff45-5097-4e33-fe26-671fea0f9206",
        "colab": {
          "base_uri": "https://localhost:8080/"
        }
      },
      "outputs": [
        {
          "output_type": "stream",
          "name": "stdout",
          "text": [
            "['question']\n"
          ]
        }
      ],
      "source": [
        "from langchain_core.messages import SystemMessage\n",
        "\n",
        "system_prompt = SystemMessage(content=dedent(f\"\"\"\\\n",
        "    You are a helpful software engineer. You write clear, concise, well-commented code. Do not output anything but the code.\n",
        "    Make sure you only generate {my_shell} code that is {my_os}-compatible!\"\"\"\n",
        "))\n",
        "\n",
        "chat_template_with_system_message = ChatPromptTemplate.from_messages(\n",
        "    [\n",
        "        system_prompt,\n",
        "        few_shot_prompt,\n",
        "        (\"human\", \"{question}\"),\n",
        "    ]\n",
        ")\n",
        "\n",
        "print(chat_template_with_system_message.input_variables)"
      ]
    },
    {
      "cell_type": "markdown",
      "metadata": {
        "id": "nQ6mpv1YYIfS"
      },
      "source": [
        "### Run the model\n",
        "\n",
        "Note that the model has removed its chatter from around the code block."
      ]
    },
    {
      "cell_type": "code",
      "execution_count": 20,
      "metadata": {
        "id": "IIR2-8LXYIfS",
        "outputId": "524104fd-a937-4a3e-9a0b-69f743c2daca",
        "colab": {
          "base_uri": "https://localhost:8080/"
        }
      },
      "outputs": [
        {
          "output_type": "stream",
          "name": "stdout",
          "text": [
            "```bash\n",
            "#!/bin/bash\n",
            "\n",
            "# Get the current time in seconds since the epoch (Unix timestamp)\n",
            "last_week_timestamp=$(date -d \"1 week ago\" +%s)\n",
            "\n",
            "# Find files modified within the last week\n",
            "find . -type f -mtime -7\n",
            "\n",
            "# Pipe the output to awk to extract the last modification time and the filename\n",
            "find . -type f -mtime -7 | awk -F' ' '{print $1 \" \" $NF}'\n",
            "```\n",
            "\n",
            "This script first calculates the Unix timestamp for one week ago using the `date` command with the `-d` option. Then, it searches for files (`-type f`) modified within the last week (`-mtime -7`). The output is piped to `awk`, which formats the output to display the last modification time followed by the filename.\n"
          ]
        }
      ],
      "source": [
        "chain_sys = chat_template_with_system_message | model\n",
        "response = chain_sys.invoke({\"question\": prompt})\n",
        "print(response)"
      ]
    },
    {
      "cell_type": "markdown",
      "metadata": {
        "id": "beCrAoInYIfS"
      },
      "source": [
        "### For further study\n",
        "- Try different queries. Test them to see if the model generated them correctly.\n",
        "- Try invoking the model chain several times. How do the responses change from one invocation to the next?\n",
        "- Try adding more examples to the `examples` string or modifying the ones shown. Does this affect the outputs?"
      ]
    }
  ],
  "metadata": {
    "language_info": {
      "name": "python"
    },
    "colab": {
      "provenance": []
    },
    "kernelspec": {
      "name": "python3",
      "display_name": "Python 3"
    }
  },
  "nbformat": 4,
  "nbformat_minor": 0
}